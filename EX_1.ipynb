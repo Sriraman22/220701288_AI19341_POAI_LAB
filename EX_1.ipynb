{
 "cells": [
  {
   "cell_type": "code",
   "execution_count": null,
   "metadata": {},
   "outputs": [],
   "source": [
    "N = 8 # (size of the chessboard)\n",
    "\n",
    "def solveNQueens(board, col):\n",
    "    if col == N:\n",
    "        print(board)\n",
    "        return True\n",
    "    for i in range(N):\n",
    "        if isSafe(board, i, col):\n",
    "            board[i][col] = 1\n",
    "            if solveNQueens(board, col + 1):\n",
    "                return True\n",
    "            board[i][col] = 0\n",
    "    return False\n",
    "\n",
    "def isSafe(board, row, col):\n",
    "    for x in range(col):\n",
    "        if board[row][x] == 1:\n",
    "            return False\n",
    "    for x, y in zip(range(row, -1, -1), range(col, -1, -1)):\n",
    "        if board[x][y] == 1:\n",
    "            return False\n",
    "    for x, y in zip(range(row, N, 1), range(col, -1, -1)):\n",
    "        if board[x][y] == 1:\n",
    "            return False\n",
    "    return True\n",
    "\n",
    "board = [[0 for x in range(N)] for y in range(N)]\n",
    "if not solveNQueens(board, 0):\n",
    "    print(\"No solution found\")"
   ]
  }
 ],
 "metadata": {
  "language_info": {
   "name": "python"
  }
 },
 "nbformat": 4,
 "nbformat_minor": 2
}
