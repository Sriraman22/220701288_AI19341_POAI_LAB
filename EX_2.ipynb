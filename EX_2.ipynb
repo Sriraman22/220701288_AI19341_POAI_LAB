{
 "cells": [
  {
   "cell_type": "code",
   "execution_count": null,
   "metadata": {},
   "outputs": [],
   "source": [
    "import networkx as nx\n",
    "import matplotlib.pyplot as plt\n",
    "\n",
    "# Function to solve DFS\n",
    "def solveDFS(graph, v, visited):\n",
    "    visited.add(v)\n",
    "    print(v, end=' ')\n",
    "    for neighbor in graph.neighbors(v):  # Use neighbors() to access neighbors of a node\n",
    "        if neighbor not in visited:\n",
    "            solveDFS(graph, neighbor, visited)\n",
    "\n",
    "# Create a directed graph using NetworkX\n",
    "g = nx.DiGraph()\n",
    "# Add edges to the graph\n",
    "g.add_edges_from([('A', 'B'), ('A', 'C'), ('C', 'G'), ('B', 'D'), ('B', 'E'), ('D', 'F'), ('A', 'E')])\n",
    "\n",
    "# Visualize the graph\n",
    "nx.draw(g, with_labels=True, node_color='lightblue', node_size=3000, font_size=12)\n",
    "plt.show()\n",
    "\n",
    "# Perform DFS\n",
    "print(\"Following is DFS starting from vertex A:\")\n",
    "visited = set()  # To track visited nodes\n",
    "solveDFS(g, 'A', visited)\n"
   ]
  }
 ],
 "metadata": {
  "language_info": {
   "name": "python"
  }
 },
 "nbformat": 4,
 "nbformat_minor": 2
}
