{
 "cells": [
  {
   "cell_type": "code",
   "execution_count": null,
   "metadata": {},
   "outputs": [],
   "source": [
    "# Importing necessary libraries\n",
    "import pandas as pd\n",
    "from sklearn.model_selection import train_test_split\n",
    "from sklearn.tree import DecisionTreeClassifier, plot_tree\n",
    "from sklearn.metrics import accuracy_score\n",
    "import matplotlib.pyplot as plt\n",
    "\n",
    "# Creating a sample dataset with height, weight, and shoe size\n",
    "data = {\n",
    "    \"Height\": [170, 160, 165, 180, 175, 155, 168, 159, 172, 178],\n",
    "    \"Weight\": [65, 55, 60, 75, 72, 50, 62, 53, 68, 73],\n",
    "    \"Shoe Size\": [42, 38, 40, 44, 43, 36, 41, 37, 42, 45],\n",
    "    \"Gender\": [\"Male\", \"Female\", \"Female\", \"Male\", \"Male\", \"Female\", \"Male\", \"Female\", \"Male\", \"Male\"]\n",
    "}\n",
    "\n",
    "# Converting the dataset to a DataFrame\n",
    "df = pd.DataFrame(data)\n",
    "\n",
    "# Encoding Gender as numeric (Male = 1, Female = 0)\n",
    "df[\"Gender\"] = df[\"Gender\"].map({\"Male\": 1, \"Female\": 0})\n",
    "\n",
    "# Splitting features and target\n",
    "X = df[[\"Height\", \"Weight\", \"Shoe Size\"]]  # Features\n",
    "y = df[\"Gender\"]  # Target\n",
    "\n",
    "# Splitting data into training and testing sets\n",
    "X_train, X_test, y_train, y_test = train_test_split(X, y, test_size=0.3, random_state=42)\n",
    "\n",
    "# Initializing the Decision Tree Classifier\n",
    "classifier = DecisionTreeClassifier(criterion=\"entropy\", max_depth=3, random_state=42)\n",
    "classifier.fit(X_train, y_train)\n",
    "\n",
    "# Making predictions on the test data\n",
    "y_pred = classifier.predict(X_test)\n",
    "\n",
    "# Calculating accuracy\n",
    "accuracy = accuracy_score(y_test, y_pred)\n",
    "print(f\"Decision Tree Classifier Accuracy: {accuracy:.2f}\")\n",
    "\n",
    "# Plotting the Decision Tree\n",
    "plt.figure(figsize=(12, 8))\n",
    "plot_tree(classifier, filled=True,\n",
    "          feature_names=[\"Height\", \"Weight\", \"Shoe Size\"],\n",
    "          class_names=[\"Female\", \"Male\"])\n",
    "plt.title(\"Decision Tree Structure\")\n",
    "plt.show()\n"
   ]
  }
 ],
 "metadata": {
  "language_info": {
   "name": "python"
  }
 },
 "nbformat": 4,
 "nbformat_minor": 2
}
