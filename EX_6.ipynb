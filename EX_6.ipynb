{
 "cells": [
  {
   "cell_type": "code",
   "execution_count": null,
   "metadata": {},
   "outputs": [],
   "source": [
    "from sklearn.neural_network import MLPClassifier\n",
    "from sklearn.model_selection import train_test_split\n",
    "from sklearn.datasets import make_circles\n",
    "import numpy as np\n",
    "import matplotlib.pyplot as plt\n",
    "import seaborn as sns\n",
    "\n",
    "# Generate the dataset\n",
    "X, y = make_circles(n_samples=1000, noise=0.05)\n",
    "\n",
    "# Split the dataset\n",
    "X_train, X_test, y_train, y_test = train_test_split(X, y, test_size=0.25, random_state=42)\n",
    "\n",
    "# Visualize the training data\n",
    "sns.scatterplot(x=X_train[:, 0], y=X_train[:, 1], hue=y_train)\n",
    "plt.title(\"Train Data\")\n",
    "plt.show()\n",
    "\n",
    "# Train the MLPClassifier\n",
    "clf = MLPClassifier(max_iter=1000, random_state=42)\n",
    "clf.fit(X_train, y_train)\n",
    "\n",
    "# Print R2 Scores\n",
    "print(f\"R2 Score for Training Data = {clf.score(X_train, y_train):.2f}\")\n",
    "print(f\"R2 Score for Test Data = {clf.score(X_test, y_test):.2f}\")\n",
    "\n",
    "# Predict on test data\n",
    "y_pred = clf.predict(X_test)\n",
    "\n",
    "# Create subplots to compare actual vs predicted\n",
    "fig, ax = plt.subplots(1, 2, figsize=(12, 6))\n",
    "\n",
    "sns.scatterplot(x=X_test[:, 0], y=X_test[:, 1], hue=y_pred, ax=ax[0])\n",
    "ax[0].title.set_text(\"Predicted Data\")\n",
    "\n",
    "sns.scatterplot(x=X_test[:, 0], y=X_test[:, 1], hue=y_test, ax=ax[1])\n",
    "ax[1].title.set_text(\"Actual Test Data\")\n",
    "\n",
    "plt.tight_layout()\n",
    "plt.show()\n"
   ]
  }
 ],
 "metadata": {
  "language_info": {
   "name": "python"
  }
 },
 "nbformat": 4,
 "nbformat_minor": 2
}
