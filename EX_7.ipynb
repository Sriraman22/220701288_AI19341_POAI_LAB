{
 "cells": [
  {
   "cell_type": "code",
   "execution_count": null,
   "metadata": {},
   "outputs": [],
   "source": [
    "from sklearn.neural_network import MLPRegressor\n",
    "from sklearn.model_selection import train_test_split\n",
    "from sklearn.datasets import make_regression\n",
    "import numpy as np\n",
    "import matplotlib.pyplot as plt\n",
    "import seaborn as sns\n",
    "X, y = make_regression(n_samples=1000, noise=0.05, n_features=100)\n",
    "X_shape = X.shape\n",
    "y_shape = y.shape\n",
    "if X_shape == (1000, 100) and y_shape == (1000,):\n",
    "    print(\"Shapes are correct!\")\n",
    "else:\n",
    "    print(f\"Shapes mismatch! X.shape: {X_shape}, y.shape: {y_shape}\")\n",
    "\n",
    "X_train, X_test, y_train, y_test = train_test_split(X, y, test_size=0.2, shuffle=True, random_state=42)\n",
    "clf = MLPRegressor(max_iter=2000)\n",
    "clf.fit(X_train, y_train)\n",
    "print(f\"R2 Score for Training Data = {clf.score(X_train, y_train)}\")\n",
    "print(f\"R2 Score for Test Data = {clf.score(X_test, y_test)}\")"
   ]
  }
 ],
 "metadata": {
  "language_info": {
   "name": "python"
  }
 },
 "nbformat": 4,
 "nbformat_minor": 2
}
