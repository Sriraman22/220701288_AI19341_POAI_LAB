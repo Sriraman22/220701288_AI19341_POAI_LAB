{
 "cells": [
  {
   "cell_type": "code",
   "execution_count": null,
   "metadata": {},
   "outputs": [],
   "source": [
    "def dfs_solution(jug1, jug2, target):\n",
    "    visited = set()  # To track visited states\n",
    "    stack = [(0, 0)]  # Start with both jugs empty\n",
    "\n",
    "    while stack:\n",
    "        state = stack.pop()\n",
    "\n",
    "        # Skip already visited states\n",
    "        if state in visited:\n",
    "            continue\n",
    "        visited.add(state)\n",
    "\n",
    "        x, y = state  # Current amounts in jug1 and jug2\n",
    "\n",
    "        # Check if the target is achieved\n",
    "        if x == target or y == target:\n",
    "            return f\"Solution: {state}\"\n",
    "\n",
    "        # Generate all possible next states\n",
    "        next_states = [\n",
    "            (jug1, y),  # Fill Jug 1\n",
    "            (x, jug2),  # Fill Jug 2\n",
    "            (0, y),     # Empty Jug 1\n",
    "            (x, 0),     # Empty Jug 2\n",
    "            (min(x + y, jug1), max(0, x + y - jug1)),  # Pour from Jug 2 to Jug 1\n",
    "            (max(0, x + y - jug2), min(x + y, jug2))   # Pour from Jug 1 to Jug 2\n",
    "        ]\n",
    "\n",
    "        # Add new states to the stack\n",
    "        for next_state in next_states:\n",
    "            if next_state not in visited:\n",
    "                stack.append(next_state)\n",
    "\n",
    "    return \"No solution.\"\n",
    "\n",
    "# Input from user\n",
    "jug1 = int(input(\"Enter capacity of Jug 1: \"))\n",
    "jug2 = int(input(\"Enter capacity of Jug 2: \"))\n",
    "target = int(input(\"Enter target amount: \"))\n",
    "\n",
    "print(dfs_solution(jug1, jug2, target))\n"
   ]
  }
 ],
 "metadata": {
  "language_info": {
   "name": "python"
  }
 },
 "nbformat": 4,
 "nbformat_minor": 2
}
